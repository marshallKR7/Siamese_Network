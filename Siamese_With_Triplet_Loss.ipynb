{
 "nbformat": 4,
 "nbformat_minor": 0,
 "metadata": {
  "kernelspec": {
   "display_name": "Python 3",
   "language": "python",
   "name": "python3"
  },
  "language_info": {
   "codemirror_mode": {
    "name": "ipython",
    "version": 2
   },
   "file_extension": ".py",
   "mimetype": "text/x-python",
   "name": "python",
   "nbconvert_exporter": "python",
   "pygments_lexer": "ipython2",
   "version": "2.7.6"
  },
  "pycharm": {
   "stem_cell": {
    "cell_type": "raw",
    "source": [],
    "metadata": {
     "collapsed": false
    }
   }
  },
  "colab": {
   "name": "Siamese_With_Triplet_Loss.ipynb",
   "provenance": [],
   "collapsed_sections": []
  },
  "accelerator": "GPU"
 },
 "cells": [
  {
   "cell_type": "code",
   "metadata": {
    "id": "_X7gmC8Bs5-D",
    "colab_type": "code",
    "outputId": "fda27224-e765-4b51-e020-3c8861126699",
    "colab": {
     "base_uri": "https://localhost:8080/",
     "height": 120
    }
   },
   "source": [
    "from google.colab import drive\n",
    "drive.mount('/content/drive')"
   ],
   "execution_count": 1,
   "outputs": [
    {
     "output_type": "stream",
     "text": [
      "Go to this URL in a browser: https://accounts.google.com/o/oauth2/auth?client_id=947318989803-6bn6qk8qdgf4n4g3pfee6491hc0brc4i.apps.googleusercontent.com&redirect_uri=urn%3aietf%3awg%3aoauth%3a2.0%3aoob&response_type=code&scope=email%20https%3a%2f%2fwww.googleapis.com%2fauth%2fdocs.test%20https%3a%2f%2fwww.googleapis.com%2fauth%2fdrive%20https%3a%2f%2fwww.googleapis.com%2fauth%2fdrive.photos.readonly%20https%3a%2f%2fwww.googleapis.com%2fauth%2fpeopleapi.readonly\n",
      "\n",
      "Enter your authorization code:\n",
      "··········\n",
      "Mounted at /content/drive\n"
     ],
     "name": "stdout"
    }
   ]
  },
  {
   "cell_type": "code",
   "metadata": {
    "pycharm": {
     "is_executing": false
    },
    "id": "zClwTPhYsuoL",
    "colab_type": "code",
    "colab": {
     "base_uri": "https://localhost:8080/",
     "height": 33
    },
    "outputId": "7e3f2ec8-12ac-449e-8a77-49213a2ba003"
   },
   "source": [
    "import os\n",
    "import numpy as np\n",
    "import cv2\n",
    "import pickle\n",
    "import random\n",
    "import matplotlib.pyplot as plt\n",
    "import tensorflow as tf\n",
    "from keras.models import Sequential, Model, Input\n",
    "from keras.layers import Dense, Conv2D, Flatten, MaxPooling2D, Dropout, concatenate, Lambda, BatchNormalization\n",
    "from keras import metrics\n",
    "from preprocessing import PreProcessing\n",
    "import matplotlib.pyplot as plt"
   ],
   "execution_count": 2,
   "outputs": [
    {
     "output_type": "stream",
     "text": [
      "Using TensorFlow backend.\n"
     ],
     "name": "stderr"
    }
   ]
  },
  {
   "cell_type": "code",
   "metadata": {
    "pycharm": {
     "name": "#%%\n",
     "is_executing": false
    },
    "id": "xJPH4t93suoP",
    "colab_type": "code",
    "colab": {}
   },
   "source": [
    "data_path = r\"/content/drive/My Drive/Colab Notebooks/data\"\n",
    "\n",
    "preprocess_data = PreProcessing(data_path, verbose=True)"
   ],
   "execution_count": 0,
   "outputs": []
  },
  {
   "cell_type": "code",
   "metadata": {
    "pycharm": {
     "name": "#%%\n",
     "is_executing": false
    },
    "id": "aq1dR3xOsuoS",
    "colab_type": "code",
    "colab": {}
   },
   "source": [
    "batch_size = 4\n",
    "anchor_image, positive_image, negative_image = preprocess_data.get_triplet_batch(batch_size,train_data=False)\n"
   ],
   "execution_count": 0,
   "outputs": []
  },
  {
   "cell_type": "code",
   "metadata": {
    "pycharm": {
     "name": "#%%\n",
     "is_executing": false
    },
    "id": "E372opAisuoU",
    "colab_type": "code",
    "outputId": "d9ab27eb-5ad4-4a4c-a081-f6f1d2499571",
    "colab": {
     "base_uri": "https://localhost:8080/",
     "height": 269
    }
   },
   "source": [
    "fig, ax = plt.subplots(nrows=batch_size, ncols=3)\n",
    "for i in range(batch_size):\n",
    "    ax[i, 0].imshow(np.reshape(anchor_image[i], (105, 105)))\n",
    "    ax[i, 1].imshow(np.reshape(positive_image[i], (105, 105)))\n",
    "    ax[i, 2].imshow(np.reshape(negative_image[i], (105, 105)))\n",
    "plt.show()"
   ],
   "execution_count": 6,
   "outputs": [
    {
     "output_type": "display_data",
     "data": {
      "image/png": "[encoded data removed]",
      "text/plain": [
       "<Figure size 432x288 with 12 Axes>"
      ]
     },
     "metadata": {
      "tags": [],
      "needs_background": "light"
     }
    }
   ]
  },
  {
   "cell_type": "code",
   "metadata": {
    "pycharm": {
     "name": "#%%\n",
     "is_executing": false
    },
    "id": "TxM-Dw-jsuoY",
    "colab_type": "code",
    "outputId": "3c543bed-d3c7-4b59-80fe-bcc84024f4e3",
    "colab": {
     "base_uri": "https://localhost:8080/",
     "height": 33
    }
   },
   "source": [
    "anchor_image.shape"
   ],
   "execution_count": 7,
   "outputs": [
    {
     "output_type": "execute_result",
     "data": {
      "text/plain": [
       "(4, 105, 105, 1)"
      ]
     },
     "metadata": {
      "tags": []
     },
     "execution_count": 7
    }
   ]
  },
  {
   "cell_type": "markdown",
   "metadata": {
    "collapsed": false,
    "pycharm": {
     "name": "#%% md\n"
    },
    "id": "752cqghGsuoc",
    "colab_type": "text"
   },
   "source": [
    "Cell before defines for the structure of the CNN that extract the embedding from the Image"
   ]
  },
  {
   "cell_type": "code",
   "metadata": {
    "pycharm": {
     "name": "#%%\n",
     "is_executing": false
    },
    "id": "GiP86EfVsuoc",
    "colab_type": "code",
    "colab": {}
   },
   "source": [
    "# emb_size = 128\n",
    "emb_size = 2048\n",
    "embedding_model = Sequential()\n",
    "embedding_model.add(Conv2D(64, (10,10), activation='relu', input_shape=(105,105,1)))\n",
    "embedding_model.add(BatchNormalization())\n",
    "embedding_model.add(MaxPooling2D())\n",
    "embedding_model.add(Dropout(0.5))\n",
    "embedding_model.add(Conv2D(128, (7,7), activation='relu'))\n",
    "embedding_model.add(BatchNormalization())\n",
    "embedding_model.add(MaxPooling2D())\n",
    "embedding_model.add(Dropout(0.5))\n",
    "embedding_model.add(Conv2D(128, (4,4), activation='relu'))\n",
    "embedding_model.add(BatchNormalization())\n",
    "embedding_model.add(MaxPooling2D())\n",
    "embedding_model.add(Dropout(0.5))\n",
    "embedding_model.add(Conv2D(256, (4,4), activation='relu'))\n",
    "embedding_model.add(BatchNormalization())\n",
    "embedding_model.add(Flatten())\n",
    "embedding_model.add(Dense(emb_size, activation='sigmoid'))\n",
    "embedding_model.add(Lambda(lambda x:tf.keras.backend.l2_normalize(x, axis=1)))\n",
    "# embedding_model.summary()"
   ],
   "execution_count": 0,
   "outputs": []
  },
  {
   "cell_type": "code",
   "metadata": {
    "id": "X5CIbzKLkSAE",
    "colab_type": "code",
    "outputId": "372146e7-89b0-4fec-fadb-d6ee24b0d4cf",
    "colab": {
     "base_uri": "https://localhost:8080/",
     "height": 84
    }
   },
   "source": [
    "test_embedding_output1 = embedding_model.predict(np.expand_dims(anchor_image[3], axis=0))\n",
    "test_embedding_output2 = embedding_model.predict(np.expand_dims(positive_image[3], axis=0))\n",
    "test_embedding_output3 = embedding_model.predict(np.expand_dims(negative_image[3], axis=0))\n",
    "print(test_embedding_output1.shape)\n",
    "distance1 = tf.sqrt(tf.reduce_sum(tf.pow(test_embedding_output1 - test_embedding_output2, 2), 1, keepdims=True))\n",
    "distance2 = tf.sqrt(tf.reduce_sum(tf.pow(test_embedding_output1 - test_embedding_output3, 2), 1, keepdims=True))\n",
    "loss = tf.reduce_mean(tf.maximum(distance1 - distance2 + 0.2, 0.))\n",
    "distance1, distance2, loss\n"
   ],
   "execution_count": 9,
   "outputs": [
    {
     "output_type": "stream",
     "text": [
      "(1, 2048)\n"
     ],
     "name": "stdout"
    },
    {
     "output_type": "execute_result",
     "data": {
      "text/plain": [
       "(<tf.Tensor: shape=(1, 1), dtype=float32, numpy=array([[0.00766199]], dtype=float32)>,\n",
       " <tf.Tensor: shape=(1, 1), dtype=float32, numpy=array([[0.0071888]], dtype=float32)>,\n",
       " <tf.Tensor: shape=(), dtype=float32, numpy=0.2004732>)"
      ]
     },
     "metadata": {
      "tags": []
     },
     "execution_count": 9
    }
   ]
  },
  {
   "cell_type": "code",
   "metadata": {
    "pycharm": {
     "name": "#%%\n",
     "is_executing": false
    },
    "id": "Zylp2Im0suoj",
    "colab_type": "code",
    "colab": {}
   },
   "source": [
    "in_anc = Input(shape=(105,105,1))\n",
    "in_pos = Input(shape=(105,105,1))\n",
    "in_neg = Input(shape=(105,105,1))\n",
    "\n",
    "em_anc = embedding_model(in_anc)\n",
    "em_pos = embedding_model(in_pos)\n",
    "em_neg = embedding_model(in_neg)\n",
    "\n",
    "out = concatenate([em_anc, em_pos, em_neg], axis=1)\n",
    "\n",
    "siamese_net = Model(\n",
    "    [in_anc, in_pos, in_neg],\n",
    "    out\n",
    ")\n",
    "\n",
    "# siamese_net.summary()"
   ],
   "execution_count": 0,
   "outputs": []
  },
  {
   "cell_type": "markdown",
   "source": [
    "Triplet Loss function for L2 Distance "
   ],
   "metadata": {
    "collapsed": false,
    "pycharm": {
     "name": "#%% md\n"
    }
   }
  },
  {
   "cell_type": "code",
   "metadata": {
    "pycharm": {
     "name": "#%%\n",
     "is_executing": false
    },
    "id": "qIq7mtkNsuol",
    "colab_type": "code",
    "colab": {}
   },
   "source": [
    "# L2 Distance\n",
    "def triplet_loss(alpha, emb_dim):\n",
    "    def loss(y_true, y_pred):\n",
    "        anc, pos, neg = y_pred[:,:emb_size], y_pred[:,emb_size:2*emb_size], y_pred[:,2*emb_size:]\n",
    "        distance1 = tf.sqrt(tf.reduce_sum(tf.pow(anc - pos, 2), 1, keepdims=True))\n",
    "        distance2 = tf.sqrt(tf.reduce_sum(tf.pow(anc - neg, 2), 1, keepdims=True))\n",
    "        return tf.reduce_mean(tf.maximum(distance1 - distance2 + alpha, 0.))\n",
    "    return loss"
   ],
   "execution_count": 0,
   "outputs": []
  },
  {
   "cell_type": "markdown",
   "source": [
    "Triplet loss function for Cosine Distance"
   ],
   "metadata": {
    "collapsed": false,
    "pycharm": {
     "name": "#%% md\n"
    }
   }
  },
  {
   "cell_type": "code",
   "metadata": {
    "pycharm": {
     "name": "#%%\n",
     "is_executing": false
    },
    "id": "eT5mlAc7suoq",
    "colab_type": "code",
    "colab": {}
   },
   "source": [
    "# Cosine Similarity\n",
    "def triplet_loss(alpha, emb_dim):\n",
    "    def loss(y_true, y_pred):\n",
    "        anc, pos, neg = y_pred[:,:emb_size], y_pred[:,emb_size:2*emb_size], y_pred[:,2*emb_size:]\n",
    "        distance1 = tf.keras.losses.cosine_similarity(anc, pos)\n",
    "        distance2 = tf.keras.losses.cosine_similarity(anc, neg)\n",
    "        return tf.keras.backend.clip(distance1 - distance2 + alpha, 0., None)\n",
    "    return loss"
   ],
   "execution_count": 0,
   "outputs": []
  },
  {
   "cell_type": "code",
   "execution_count": null,
   "outputs": [],
   "source": [
    "def data_generator(batch_size, emb_size):\n",
    "    while True:\n",
    "        x = preprocess_data.get_triplet_batch(batch_size)\n",
    "        y = np.zeros((batch_size, 3*emb_size))\n",
    "        yield x,y"
   ],
   "metadata": {
    "collapsed": false,
    "pycharm": {
     "name": "#%%\n"
    }
   }
  },
  {
   "cell_type": "code",
   "metadata": {
    "pycharm": {
     "name": "#%%\n",
     "is_executing": false
    },
    "id": "qPTS-LErsuos",
    "colab_type": "code",
    "colab": {}
   },
   "source": [
    "batch_size = 128\n",
    "epochs = 50\n",
    "opt = tf.keras.optimizers.Adam(lr = 0.001)\n",
    "steps_per_epoch = 100\n",
    "siamese_net.compile(loss=triplet_loss(alpha=0.2, emb_dim=emb_size), optimizer=opt)\n",
    "# siamese_net.summary()\n"
   ],
   "execution_count": 0,
   "outputs": []
  },
  {
   "cell_type": "code",
   "metadata": {
    "id": "jw6ZDA1TvOFp",
    "colab_type": "code",
    "outputId": "7ed36090-da5e-4930-fcc6-a0aeb69dd2ff",
    "colab": {
     "base_uri": "https://localhost:8080/",
     "height": 1000
    }
   },
   "source": [
    "save_path = os.path.join(data_path, \"model_weights_triplet_loss_2048.h5\")\n",
    "\n",
    "\n",
    "history = siamese_net.fit(\n",
    "    data_generator(batch_size, emb_size),\n",
    "    epochs=epochs, steps_per_epoch=steps_per_epoch,\n",
    "    verbose=True\n",
    ")\n"
   ],
   "execution_count": 14,
   "outputs": [
    {
     "output_type": "stream",
     "text": [
      "Epoch 1/50\n",
      "100/100 [==============================] - 37s 371ms/step - loss: 0.0529\n",
      "Epoch 2/50\n",
      "100/100 [==============================] - 34s 343ms/step - loss: 0.0376\n",
      "Epoch 3/50\n",
      "100/100 [==============================] - 34s 343ms/step - loss: 0.0282\n",
      "Epoch 4/50\n",
      "100/100 [==============================] - 34s 342ms/step - loss: 0.0218\n",
      "Epoch 5/50\n",
      "100/100 [==============================] - 34s 342ms/step - loss: 0.0181\n",
      "Epoch 6/50\n",
      "100/100 [==============================] - 34s 342ms/step - loss: 0.0169\n",
      "Epoch 7/50\n",
      "100/100 [==============================] - 34s 342ms/step - loss: 0.0145\n",
      "Epoch 8/50\n",
      "100/100 [==============================] - 34s 342ms/step - loss: 0.0130\n",
      "Epoch 9/50\n",
      "100/100 [==============================] - 34s 342ms/step - loss: 0.0122\n",
      "Epoch 10/50\n",
      "100/100 [==============================] - 34s 341ms/step - loss: 0.0120\n",
      "Epoch 11/50\n",
      "100/100 [==============================] - 34s 341ms/step - loss: 0.0105\n",
      "Epoch 12/50\n",
      "100/100 [==============================] - 34s 341ms/step - loss: 0.0098\n",
      "Epoch 13/50\n",
      "100/100 [==============================] - 34s 341ms/step - loss: 0.0094\n",
      "Epoch 14/50\n",
      "100/100 [==============================] - 34s 341ms/step - loss: 0.0099\n",
      "Epoch 15/50\n",
      "100/100 [==============================] - 34s 341ms/step - loss: 0.0091\n",
      "Epoch 16/50\n",
      "100/100 [==============================] - 34s 341ms/step - loss: 0.0082\n",
      "Epoch 17/50\n",
      "100/100 [==============================] - 34s 341ms/step - loss: 0.0084\n",
      "Epoch 18/50\n",
      "100/100 [==============================] - 34s 341ms/step - loss: 0.0078\n",
      "Epoch 19/50\n",
      "100/100 [==============================] - 34s 341ms/step - loss: 0.0076\n",
      "Epoch 20/50\n",
      "100/100 [==============================] - 34s 341ms/step - loss: 0.0069\n",
      "Epoch 21/50\n",
      "100/100 [==============================] - 34s 342ms/step - loss: 0.0068\n",
      "Epoch 22/50\n",
      "100/100 [==============================] - 34s 341ms/step - loss: 0.0062\n",
      "Epoch 23/50\n",
      "100/100 [==============================] - 34s 341ms/step - loss: 0.0058\n",
      "Epoch 24/50\n",
      "100/100 [==============================] - 34s 341ms/step - loss: 0.0059\n",
      "Epoch 25/50\n",
      "100/100 [==============================] - 34s 341ms/step - loss: 0.0064\n",
      "Epoch 26/50\n",
      "100/100 [==============================] - 34s 342ms/step - loss: 0.0063\n",
      "Epoch 27/50\n",
      "100/100 [==============================] - 34s 341ms/step - loss: 0.0061\n",
      "Epoch 28/50\n",
      "100/100 [==============================] - 34s 340ms/step - loss: 0.0057\n",
      "Epoch 29/50\n",
      "100/100 [==============================] - 34s 341ms/step - loss: 0.0058\n",
      "Epoch 30/50\n",
      "100/100 [==============================] - 34s 341ms/step - loss: 0.0054\n",
      "Epoch 31/50\n",
      "100/100 [==============================] - 34s 341ms/step - loss: 0.0049\n",
      "Epoch 32/50\n",
      "100/100 [==============================] - 34s 341ms/step - loss: 0.0051\n",
      "Epoch 33/50\n",
      "100/100 [==============================] - 34s 341ms/step - loss: 0.0045\n",
      "Epoch 34/50\n",
      "100/100 [==============================] - 34s 341ms/step - loss: 0.0048\n",
      "Epoch 35/50\n",
      "100/100 [==============================] - 34s 341ms/step - loss: 0.0049\n",
      "Epoch 36/50\n",
      "100/100 [==============================] - 34s 341ms/step - loss: 0.0046\n",
      "Epoch 37/50\n",
      "100/100 [==============================] - 34s 340ms/step - loss: 0.0046\n",
      "Epoch 38/50\n",
      "100/100 [==============================] - 34s 341ms/step - loss: 0.0043\n",
      "Epoch 39/50\n",
      "100/100 [==============================] - 34s 341ms/step - loss: 0.0041\n",
      "Epoch 40/50\n",
      "100/100 [==============================] - 34s 341ms/step - loss: 0.0042\n",
      "Epoch 41/50\n",
      "100/100 [==============================] - 34s 340ms/step - loss: 0.0041\n",
      "Epoch 42/50\n",
      "100/100 [==============================] - 34s 341ms/step - loss: 0.0042\n",
      "Epoch 43/50\n",
      "100/100 [==============================] - 34s 341ms/step - loss: 0.0038\n",
      "Epoch 44/50\n",
      "100/100 [==============================] - 34s 341ms/step - loss: 0.0042\n",
      "Epoch 45/50\n",
      "100/100 [==============================] - 34s 341ms/step - loss: 0.0037\n",
      "Epoch 46/50\n",
      "100/100 [==============================] - 34s 341ms/step - loss: 0.0041\n",
      "Epoch 47/50\n",
      "100/100 [==============================] - 34s 342ms/step - loss: 0.0042\n",
      "Epoch 48/50\n",
      "100/100 [==============================] - 34s 341ms/step - loss: 0.0039\n",
      "Epoch 49/50\n",
      "100/100 [==============================] - 34s 340ms/step - loss: 0.0035\n",
      "Epoch 50/50\n",
      "100/100 [==============================] - 34s 341ms/step - loss: 0.0036\n"
     ],
     "name": "stdout"
    }
   ]
  },
  {
   "cell_type": "code",
   "metadata": {
    "id": "wn7r8AHKUrhM",
    "colab_type": "code",
    "colab": {}
   },
   "source": [
    "siamese_net.load_weights(save_path)"
   ],
   "execution_count": 0,
   "outputs": []
  },
  {
   "cell_type": "code",
   "metadata": {
    "id": "xXl7gVYfhdye",
    "colab_type": "code",
    "colab": {}
   },
   "source": [
    "siamese_net.save_weights(save_path)"
   ],
   "execution_count": 0,
   "outputs": []
  },
  {
   "cell_type": "code",
   "metadata": {
    "id": "-73PmZ7loEDR",
    "colab_type": "code",
    "colab": {
     "base_uri": "https://localhost:8080/",
     "height": 53
    },
    "outputId": "93b40112-f835-4750-88f4-086cab7a13f2"
   },
   "source": [
    "print(history.history['loss'])"
   ],
   "execution_count": 16,
   "outputs": [
    {
     "output_type": "stream",
     "text": [
      "[0.05286350743845105, 0.03755243882536888, 0.028226286098361017, 0.02178509496152401, 0.018149997843429445, 0.01690572826191783, 0.014511484568938613, 0.013049100106582046, 0.012229221742600202, 0.01204013437498361, 0.010457476540468634, 0.009847868289798499, 0.009387117130681872, 0.009888037266209721, 0.009103208314627409, 0.008159786482574418, 0.00841076581273228, 0.00782000765670091, 0.007550552679458633, 0.006903479637112468, 0.006760420756181702, 0.006156597326043994, 0.0058259945653844625, 0.005892282574204728, 0.0063951707084197555, 0.006313020214438438, 0.006103568221442401, 0.005671543204225599, 0.005769486258504913, 0.00542102255858481, 0.004934863779926673, 0.005083892116090283, 0.004498201833339408, 0.004754123879829422, 0.004920696301851422, 0.004557946708519012, 0.004633598095970228, 0.004327973298495635, 0.004111444635782391, 0.0041760730766691265, 0.00413331470801495, 0.004233859536470846, 0.0037837474583648145, 0.004170246322173625, 0.0037335957866162063, 0.004126567224739119, 0.0042266013938933615, 0.0039070725452620535, 0.0035384383692871777, 0.0035619267204310746]\n"
     ],
     "name": "stdout"
    }
   ]
  },
  {
   "cell_type": "code",
   "metadata": {
    "id": "Q2PR-2Vva-Mv",
    "colab_type": "code",
    "colab": {
     "base_uri": "https://localhost:8080/",
     "height": 265
    },
    "outputId": "4b5e5054-352b-40dc-ed8c-f5bd56e0df0c"
   },
   "source": [
    "plt.plot(history.history['loss'], label='Loss')\n",
    "plt.grid(True)\n",
    "plt.show()"
   ],
   "execution_count": 17,
   "outputs": [
    {
     "output_type": "display_data",
     "data": {
      "image/png": "[encoded data removed]",
      "text/plain": [
       "<Figure size 432x288 with 1 Axes>"
      ]
     },
     "metadata": {
      "tags": [],
      "needs_background": "light"
     }
    }
   ]
  },
  {
   "cell_type": "code",
   "metadata": {
    "id": "xLu6QgDgLAp_",
    "colab_type": "code",
    "colab": {
     "base_uri": "https://localhost:8080/",
     "height": 184
    },
    "outputId": "36fe16db-7408-4b36-ad4d-4a9850f2a422"
   },
   "source": [
    "test_sample = 1000\n",
    "nway_min = 5\n",
    "nway_max = 25\n",
    "test_acc = []\n",
    "nway_list = []\n",
    "for nway in range(nway_min, nway_max+1,5):\n",
    "  print(\"Checking %d way accuracy....\" % nway)\n",
    "  correct_count = 0\n",
    "  for _ in range(test_sample):\n",
    "    # Retrieving nway number of triplets and calculating embedding vector\n",
    "    nway_anchor, nway_positive, _ = preprocess_data.get_triplet_batch(nway, train_data=False)\n",
    "    nway_anchor_embedding = embedding_model.predict(nway_anchor)\n",
    "    sample_index = random.randint(0,nway-1)\n",
    "    sample_embedding = embedding_model.predict(np.expand_dims(nway_positive[sample_index], axis=0))\n",
    "    # print(sample_index, nway_anchor_embedding.shape, sample_embedding.shape)\n",
    "    distance = tf.sqrt(tf.reduce_sum(tf.pow(nway_anchor_embedding - sample_embedding, 2), 1, keepdims=True)).numpy()\n",
    "    if np.argmin(distance) == sample_index:\n",
    "      correct_count+=1\n",
    "  nway_list.append(nway)\n",
    "  acc = (correct_count/test_sample)*100.\n",
    "  test_acc.append(acc)\n",
    "  print(\"Accuracy %.2f\" % acc)"
   ],
   "execution_count": 18,
   "outputs": [
    {
     "output_type": "stream",
     "text": [
      "Checking 5 way accuracy....\n",
      "Accuracy 98.90\n",
      "Checking 10 way accuracy....\n",
      "Accuracy 96.30\n",
      "Checking 15 way accuracy....\n",
      "Accuracy 94.70\n",
      "Checking 20 way accuracy....\n",
      "Accuracy 93.70\n",
      "Checking 25 way accuracy....\n",
      "Accuracy 92.70\n"
     ],
     "name": "stdout"
    }
   ]
  },
  {
   "cell_type": "code",
   "metadata": {
    "id": "WZx1cQ2ZVYGh",
    "colab_type": "code",
    "colab": {
     "base_uri": "https://localhost:8080/",
     "height": 184
    },
    "outputId": "4b92dabc-4be3-4c12-cc81-ad6654c507de"
   },
   "source": [
    "test_sample = 1000\n",
    "nway_min = 5\n",
    "nway_max = 25\n",
    "train_acc = []\n",
    "nway_list = []\n",
    "for nway in range(nway_min, nway_max+1,5):\n",
    "  print(\"Checking %d way accuracy....\" % nway)\n",
    "  correct_count = 0\n",
    "  for _ in range(test_sample):\n",
    "    # Retrieving nway number of triplets and calculating embedding vector\n",
    "    nway_anchor, nway_positive, _ = preprocess_data.get_triplet_batch(nway, train_data=True)\n",
    "    nway_anchor_embedding = embedding_model.predict(nway_anchor)\n",
    "    sample_index = random.randint(0,nway-1)\n",
    "    sample_embedding = embedding_model.predict(np.expand_dims(nway_positive[sample_index], axis=0))\n",
    "    # print(sample_index, nway_anchor_embedding.shape, sample_embedding.shape)\n",
    "    distance = tf.sqrt(tf.reduce_sum(tf.pow(nway_anchor_embedding - sample_embedding, 2), 1, keepdims=True)).numpy()\n",
    "    if np.argmin(distance) == sample_index:\n",
    "      correct_count+=1\n",
    "  nway_list.append(nway)\n",
    "  acc = (correct_count/test_sample)*100.\n",
    "  train_acc.append(acc)\n",
    "  print(\"Accuracy %.2f\" % acc)"
   ],
   "execution_count": 19,
   "outputs": [
    {
     "output_type": "stream",
     "text": [
      "Checking 5 way accuracy....\n",
      "Accuracy 98.70\n",
      "Checking 10 way accuracy....\n",
      "Accuracy 97.00\n",
      "Checking 15 way accuracy....\n",
      "Accuracy 94.90\n",
      "Checking 20 way accuracy....\n",
      "Accuracy 94.10\n",
      "Checking 25 way accuracy....\n",
      "Accuracy 92.70\n"
     ],
     "name": "stdout"
    }
   ]
  },
  {
   "cell_type": "code",
   "metadata": {
    "id": "mPbJ3LbchSmd",
    "colab_type": "code",
    "colab": {
     "base_uri": "https://localhost:8080/",
     "height": 286
    },
    "outputId": "09322c86-fd22-47bf-f04c-78350255f0e6"
   },
   "source": [
    "# Test & Train set accuracy Graph\n",
    "plt.plot(nway_list, test_acc, 'm', label='Validation N-way Accuracy')\n",
    "plt.plot(nway_list, train_acc, 'b', label='Training N-way Accuracy')\n",
    "plt.axis([None, None, 0, 100])\n",
    "plt.grid(True)\n",
    "plt.legend(loc='lower left')\n",
    "plt.show"
   ],
   "execution_count": 20,
   "outputs": [
    {
     "output_type": "execute_result",
     "data": {
      "text/plain": [
       "<function matplotlib.pyplot.show>"
      ]
     },
     "metadata": {
      "tags": []
     },
     "execution_count": 20
    },
    {
     "output_type": "display_data",
     "data": {
      "image/png": "[encoded data removed]",
      "text/plain": [
       "<Figure size 432x288 with 1 Axes>"
      ]
     },
     "metadata": {
      "tags": [],
      "needs_background": "light"
     }
    }
   ]
  },
  {
   "cell_type": "code",
   "metadata": {
    "id": "zpt6y9JLs8Yz",
    "colab_type": "code",
    "colab": {}
   },
   "source": [
    ""
   ],
   "execution_count": 0,
   "outputs": []
  }
 ]
}